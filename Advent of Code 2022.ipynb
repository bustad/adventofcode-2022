{
 "cells": [
  {
   "cell_type": "markdown",
   "id": "62f5ff7e-ee3f-4ae7-adcf-b2699c2cdded",
   "metadata": {},
   "source": [
    "# Advent of Code 2022"
   ]
  },
  {
   "cell_type": "markdown",
   "id": "fb3f0718-f368-42df-a83e-58f076f11297",
   "metadata": {},
   "source": [
    "## 1"
   ]
  },
  {
   "cell_type": "code",
   "execution_count": null,
   "id": "f1078b83-dc5c-4da1-b00b-c544e0975bed",
   "metadata": {},
   "outputs": [],
   "source": []
  }
 ],
 "metadata": {
  "kernelspec": {
   "display_name": "Python 3 (ipykernel)",
   "language": "python",
   "name": "python3"
  },
  "language_info": {
   "codemirror_mode": {
    "name": "ipython",
    "version": 3
   },
   "file_extension": ".py",
   "mimetype": "text/x-python",
   "name": "python",
   "nbconvert_exporter": "python",
   "pygments_lexer": "ipython3",
   "version": "3.7.12"
  }
 },
 "nbformat": 4,
 "nbformat_minor": 5
}
