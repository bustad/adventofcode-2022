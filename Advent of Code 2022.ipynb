{
 "cells": [
  {
   "cell_type": "markdown",
   "id": "62f5ff7e-ee3f-4ae7-adcf-b2699c2cdded",
   "metadata": {},
   "source": [
    "# Advent of Code 2022"
   ]
  },
  {
   "cell_type": "markdown",
   "id": "fb3f0718-f368-42df-a83e-58f076f11297",
   "metadata": {},
   "source": [
    "## Day 1"
   ]
  },
  {
   "cell_type": "code",
   "execution_count": 17,
   "id": "f1078b83-dc5c-4da1-b00b-c544e0975bed",
   "metadata": {},
   "outputs": [
    {
     "name": "stdout",
     "output_type": "stream",
     "text": [
      "72602\n"
     ]
    }
   ],
   "source": [
    "import re\n",
    "\n",
    "with open(\"day1_input.txt\") as f:\n",
    "    day1_input = f.read()\n",
    "\n",
    "elves = re.split(\"\\n\\n\", day1_input)\n",
    "\n",
    "max = 0\n",
    "for elf in elves:\n",
    "    foods = elf.split()\n",
    "    cals = 0\n",
    "    for food in foods:\n",
    "        cals += eval(food)\n",
    "    if cals > max:\n",
    "        max = cals\n",
    "        \n",
    "print(max)"
   ]
  },
  {
   "cell_type": "code",
   "execution_count": 18,
   "id": "b99e322d-86cc-4340-af48-1837110cdc2b",
   "metadata": {},
   "outputs": [
    {
     "name": "stdout",
     "output_type": "stream",
     "text": [
      "207410\n"
     ]
    }
   ],
   "source": [
    "import re\n",
    "\n",
    "with open(\"day1_input.txt\") as f:\n",
    "    day1_input = f.read()\n",
    "\n",
    "elves = re.split(\"\\n\\n\", day1_input)\n",
    "\n",
    "callist = []\n",
    "for elf in elves:\n",
    "    foods = elf.split()\n",
    "    cals = 0\n",
    "    for food in foods:\n",
    "        cals += eval(food)\n",
    "    callist.append(cals)\n",
    "    \n",
    "callist.sort(reverse = True)\n",
    "\n",
    "callistsum = 0\n",
    "for k in range(3):\n",
    "    callistsum += callist[k]\n",
    "    \n",
    "print(callistsum)"
   ]
  }
 ],
 "metadata": {
  "kernelspec": {
   "display_name": "Python 3 (ipykernel)",
   "language": "python",
   "name": "python3"
  },
  "language_info": {
   "codemirror_mode": {
    "name": "ipython",
    "version": 3
   },
   "file_extension": ".py",
   "mimetype": "text/x-python",
   "name": "python",
   "nbconvert_exporter": "python",
   "pygments_lexer": "ipython3",
   "version": "3.7.12"
  }
 },
 "nbformat": 4,
 "nbformat_minor": 5
}
